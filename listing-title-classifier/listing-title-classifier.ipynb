{
 "cells": [
  {
   "cell_type": "markdown",
   "metadata": {},
   "source": [
    "# Coding Test - Listing title classifier\n",
    "This is my solution for the first part of the challenge _\"Junior Applied Machine Learning Technical Test\"_.\n",
    "\n",
    "#### Challenge statement reminder\n",
    "The challenge definition has been made in the following way:\n",
    "* design a text classifier which will be able to classify a listing title in two categories: ASSET or NON-ASSET ((is the product or not, respectively).\n",
    "* Three datasets for three different products are provided. The goal is to create a single model for each product using the same method: same algorithm, different data.\n",
    "* Try at least two or three different methods and compare the results, explaining the advantages and disadvantages for each method. Additionally, provide at least one graphic with the algorithm comparison.\n",
    "* (Optional) Take into account training and prediction time. How long does the algorithm take to train and predict? Does your selected algorithm work properly under heavy time constraints?\n",
    "\n",
    "#### Prerequisites\n",
    "As requested in the challenge statment, the code as to be provided in a Jupyter/Google Colab notebook, available in a GitHub repository.\n",
    "See the repository's README file for information on how to run this code."
   ]
  },
  {
   "cell_type": "markdown",
   "metadata": {},
   "source": [
    "## Setup\n",
    "First, let's load all the necessary modules, specify some configurations and check if the data folder exists."
   ]
  },
  {
   "cell_type": "code",
   "execution_count": 39,
   "metadata": {},
   "outputs": [],
   "source": [
    "# Load all necessary modules.\n",
    "import numpy as np # linear algebra\n",
    "import pandas as pd # data processing, CSV file I/O (e.g. pd.read_csv)\n",
    "\n",
    "%matplotlib inline\n",
    "import matplotlib.pyplot as plt  # Matlab-style plotting\n",
    "import seaborn as sns # data visualization\n",
    "sns.set(style=\"ticks\")\n",
    "\n",
    "import re # special chars removal\n",
    "from nltk.corpus import stopwords # stopwords removal\n",
    "\n",
    "# Check stopwords installation\n",
    "if not stopwords:\n",
    "    import nltk\n",
    "    nltk.download('stopwords')\n",
    "\n",
    "pd.set_option('display.float_format', lambda x: '{:.3f}'.format(x)) # Limiting floats output to 3 decimal points"
   ]
  },
  {
   "cell_type": "code",
   "execution_count": 2,
   "metadata": {},
   "outputs": [],
   "source": [
    "# Data folder\n",
    "DATA_FOLDER = './data/'\n",
    "\n",
    "# Avaiable products\n",
    "PRODUCTS = {\n",
    "    'MAVIC PRO': 'mavic_pro_data.dat',\n",
    "    'ONEPLUS': 'oneplus_data.dat',\n",
    "    'ROOMBA 900 BRUSH': 'roomba_900_brush.dat',\n",
    "}\n",
    "\n",
    "# Check data folder existance and dataset files\n",
    "import os\n",
    "assert os.path.isdir(DATA_FOLDER), 'Data folder does not exist!'\n",
    "assert PRODUCTS['MAVIC PRO'] in os.listdir(DATA_FOLDER), 'Mavic Pro data not in data folder!'\n",
    "assert PRODUCTS['ONEPLUS'] in os.listdir(DATA_FOLDER), 'OnePlus data not in data folder!'\n",
    "assert PRODUCTS['ROOMBA 900 BRUSH'] in os.listdir(DATA_FOLDER), 'Roomba 900 Brush data not in data folder!'"
   ]
  },
  {
   "cell_type": "code",
   "execution_count": 3,
   "metadata": {},
   "outputs": [],
   "source": [
    "# The classifier output categories\n",
    "classification_categories = ['ASSET', 'NON-ASSET']"
   ]
  },
  {
   "cell_type": "markdown",
   "metadata": {},
   "source": [
    "#### Loading data\n",
    "It's time to load the datasets. The dataset formats description cames directly from the challenge statements.\n",
    "Dataset files are in TSV format, having three columns per row:\n",
    "* *url*: the url from which the info was extracted.\n",
    "* *Title*: the title for the listing.\n",
    "* *Label*: is 0 for a positive sample (or sample belonging to the protected product) and 1 for negative samples (or sample not belonging to the protected product).\n",
    "\n",
    "Usually, to load a dataset from file into a Pandas DataFrame, the functions *read_csv* or (in this case) *read_table* are used.\n",
    "However, with this particular datasets some error occured during the parsing, probably because there some tabular delimiter inside the middle column (and the tsv format use tabs to differentiate columns).\n",
    "To cope with this issue, a custom function is created."
   ]
  },
  {
   "cell_type": "code",
   "execution_count": 4,
   "metadata": {},
   "outputs": [],
   "source": [
    "# Column names\n",
    "column_names = ['url', 'Title', 'Label']\n",
    "\n",
    "def read_tsv(product_name: str) -> pd.DataFrame:\n",
    "    \"\"\"\n",
    "    Custom function to read tsv data files, in order to overcome multiple delimiters inside data.\n",
    "    \n",
    "    Args:\n",
    "        product_name (str): the name of the product dataset to load.\n",
    "    \n",
    "    Returns:\n",
    "        A Pandas DataFrame.\n",
    "    \"\"\"\n",
    "    # Dataset filepath\n",
    "    filepath = DATA_FOLDER + PRODUCTS[product_name]\n",
    "    \n",
    "    # Create and empty dataset\n",
    "    df = pd.DataFrame(columns=column_names)\n",
    "    \n",
    "    # Temporary variables to store row data\n",
    "    row_data_urls = list()\n",
    "    row_data_titles = list()\n",
    "    row_data_labels = list()\n",
    "    \n",
    "    # For each line of the file...\n",
    "    with open(filepath) as fp:\n",
    "        for i, line in enumerate(fp):\n",
    "            # Split line on all whitspaces\n",
    "            splitted_line = line.split()\n",
    "            \n",
    "            # A line should be splittable in at least 3 parts:\n",
    "            # a row has to hold at least 3 column\n",
    "            if len(line) < 3:\n",
    "                print(f'Error at line {i}: line not splittable in three parts.')\n",
    "                continue\n",
    "            \n",
    "            # The first field is the url\n",
    "            row_data_urls.append(splitted_line[0])\n",
    "            \n",
    "            # The ones in the middle are the 'Title'\n",
    "            row_data_titles.append(' '.join(splitted_line[1:-2]))\n",
    "            \n",
    "            # The last one is the 'Label'\n",
    "            row_data_labels.append(int(splitted_line[-1]))\n",
    "    \n",
    "    # Populate the dataset with the row data\n",
    "    df = pd.DataFrame({\n",
    "        'url': row_data_urls,\n",
    "        'Title': row_data_titles,\n",
    "        'Label': row_data_labels,\n",
    "    }, columns=column_names)\n",
    "    \n",
    "    return df.copy()\n",
    "    \n",
    "\n",
    "# Load ONEPLUS data\n",
    "df_oneplus = read_tsv('ONEPLUS')\n",
    "\n",
    "# Load MAVIC PRO data\n",
    "df_mavic = read_tsv('MAVIC PRO')\n",
    "\n",
    "# Load MAVIC PRO data\n",
    "df_roomba = read_tsv('ROOMBA 900 BRUSH')"
   ]
  },
  {
   "cell_type": "markdown",
   "metadata": {},
   "source": [
    "## Exploring data\n",
    "We've already a lot of information about the data, but just to be sure let's confirm the datasets sizes and labels numbers."
   ]
  },
  {
   "cell_type": "code",
   "execution_count": 5,
   "metadata": {},
   "outputs": [
    {
     "data": {
      "text/html": [
       "<div>\n",
       "<style scoped>\n",
       "    .dataframe tbody tr th:only-of-type {\n",
       "        vertical-align: middle;\n",
       "    }\n",
       "\n",
       "    .dataframe tbody tr th {\n",
       "        vertical-align: top;\n",
       "    }\n",
       "\n",
       "    .dataframe thead th {\n",
       "        text-align: right;\n",
       "    }\n",
       "</style>\n",
       "<table border=\"1\" class=\"dataframe\">\n",
       "  <thead>\n",
       "    <tr style=\"text-align: right;\">\n",
       "      <th></th>\n",
       "      <th>Num samples</th>\n",
       "      <th>Positive</th>\n",
       "      <th>Negative</th>\n",
       "    </tr>\n",
       "  </thead>\n",
       "  <tbody>\n",
       "    <tr>\n",
       "      <td>MAVIC PRO</td>\n",
       "      <td>5335</td>\n",
       "      <td>1422</td>\n",
       "      <td>3913</td>\n",
       "    </tr>\n",
       "    <tr>\n",
       "      <td>ONEPLUS</td>\n",
       "      <td>5612</td>\n",
       "      <td>1959</td>\n",
       "      <td>3653</td>\n",
       "    </tr>\n",
       "    <tr>\n",
       "      <td>ROOMBA 900 BRUSH</td>\n",
       "      <td>696</td>\n",
       "      <td>329</td>\n",
       "      <td>367</td>\n",
       "    </tr>\n",
       "  </tbody>\n",
       "</table>\n",
       "</div>"
      ],
      "text/plain": [
       "                  Num samples  Positive  Negative\n",
       "MAVIC PRO                5335      1422      3913\n",
       "ONEPLUS                  5612      1959      3653\n",
       "ROOMBA 900 BRUSH          696       329       367"
      ]
     },
     "execution_count": 5,
     "metadata": {},
     "output_type": "execute_result"
    }
   ],
   "source": [
    "distribution_data_positive = list()\n",
    "distribution_data_negative = list()\n",
    "\n",
    "# Get the number of positive and negative samples for each dataset\n",
    "for df in [df_mavic, df_oneplus, df_roomba]:\n",
    "    distribution_data_positive.append(df.loc[df['Label'] == 0, 'Label'].count())\n",
    "    distribution_data_negative.append(df.loc[df['Label'] == 1, 'Label'].count())\n",
    "\n",
    "# Create a simple table for better visualization (and understanding)\n",
    "pd.DataFrame({\n",
    "    'Num samples': [len(df_mavic), len(df_oneplus), len(df_roomba)], \n",
    "    'Positive': distribution_data_positive,\n",
    "    'Negative': distribution_data_negative,\n",
    "}, index=list(list(PRODUCTS.keys())))"
   ]
  },
  {
   "cell_type": "markdown",
   "metadata": {},
   "source": [
    "Regarding the text contained in the _Title_ column, it'd be useful to see how many (unique) words there are."
   ]
  },
  {
   "cell_type": "code",
   "execution_count": 6,
   "metadata": {},
   "outputs": [
    {
     "data": {
      "text/html": [
       "<div>\n",
       "<style scoped>\n",
       "    .dataframe tbody tr th:only-of-type {\n",
       "        vertical-align: middle;\n",
       "    }\n",
       "\n",
       "    .dataframe tbody tr th {\n",
       "        vertical-align: top;\n",
       "    }\n",
       "\n",
       "    .dataframe thead th {\n",
       "        text-align: right;\n",
       "    }\n",
       "</style>\n",
       "<table border=\"1\" class=\"dataframe\">\n",
       "  <thead>\n",
       "    <tr style=\"text-align: right;\">\n",
       "      <th></th>\n",
       "      <th>Number of unique words</th>\n",
       "    </tr>\n",
       "  </thead>\n",
       "  <tbody>\n",
       "    <tr>\n",
       "      <td>MAVIC PRO</td>\n",
       "      <td>91689</td>\n",
       "    </tr>\n",
       "    <tr>\n",
       "      <td>ONEPLUS</td>\n",
       "      <td>109672</td>\n",
       "    </tr>\n",
       "    <tr>\n",
       "      <td>ROOMBA 900 BRUSH</td>\n",
       "      <td>13458</td>\n",
       "    </tr>\n",
       "  </tbody>\n",
       "</table>\n",
       "</div>"
      ],
      "text/plain": [
       "                  Number of unique words\n",
       "MAVIC PRO                          91689\n",
       "ONEPLUS                           109672\n",
       "ROOMBA 900 BRUSH                   13458"
      ]
     },
     "execution_count": 6,
     "metadata": {},
     "output_type": "execute_result"
    }
   ],
   "source": [
    "# Create a simple table for better visualization (and understanding)\n",
    "pd.DataFrame({\n",
    "    'Number of unique words': [df['Title'].apply(lambda x: len(x.split(' '))).sum() for df in [df_mavic, df_oneplus, df_roomba]],\n",
    "}, index=list(list(PRODUCTS.keys())))"
   ]
  },
  {
   "cell_type": "markdown",
   "metadata": {},
   "source": [
    "#### Missing values\n",
    "Before the next step, we should consider the possibilty of missing values in our datasets.\n",
    "We've checked and there are none. Nevertheless, let's put a checkpoint just in case.\n",
    "let's take a moment to check if our datasets have missing values that could create problems with the model."
   ]
  },
  {
   "cell_type": "code",
   "execution_count": 7,
   "metadata": {},
   "outputs": [],
   "source": [
    "assert not sum([df.isnull().sum().sum() for df in [df_mavic, df_oneplus, df_roomba]]), \\\n",
    "    'There shouldn\\'t be missing values. Check the datasets.'"
   ]
  },
  {
   "cell_type": "markdown",
   "metadata": {},
   "source": [
    "## Feature engineering\n",
    "### Text pre-processing\n",
    "For these particular datasets, our text cleaning steps includes: remove html quotation mark, remove stop words, change text to lower case, remove punctuation, remove symbols as parenthesis, hastag, etc.\n",
    "The removal of unimportant entities would increase the accuracy, because size of sample space of possible features set decreases.\n",
    "\n",
    "When dealing with document or sentences, it's also useful to normalize words with techniques like Lemmatization or Stemmming. However, here we're dealing with title of products that are usually not made by a lot of words, usually simple ones, few verb conjugations, we'll not apply these tecniques for now.  \n",
    "Also, bad products could differ from the real one by small derivations (Mavics instead of Mavic) and we'd like the model to capture these differences."
   ]
  },
  {
   "cell_type": "code",
   "execution_count": 8,
   "metadata": {},
   "outputs": [],
   "source": [
    "# Use english stopwords for now\n",
    "STOPWORDS = set(stopwords.words('english'))\n",
    "\n",
    "def text_cleaning(text: str) -> str:\n",
    "    \"\"\"\n",
    "    Perform the following cleaning steps to a specific text:\n",
    "     - remove symbols,\n",
    "     - remove '&quot;' symbol (html quotation mark),\n",
    "     - remove stop words,\n",
    "     - change text to lower case,\n",
    "     - remove punctuation.\n",
    "     \n",
    "    Args:\n",
    "        text (str): text to be cleaned.\n",
    "    \n",
    "    Returns:\n",
    "        A cleaned text.\n",
    "    \"\"\"\n",
    "    BAD_SYMBOLS_RE = re.compile('[!\"#$%&\\'()*+,-./:;<=>?@\\[\\]^_`{|}~]')\n",
    "    \n",
    "    # Delete bad symbols\n",
    "    text = BAD_SYMBOLS_RE.sub('', text)\n",
    "    \n",
    "    # Remove '&quot;' symbol\n",
    "    text = text.replace('&quot;', '')\n",
    "    \n",
    "    # Stopwords removal\n",
    "    text = ' '.join(word for word in text.split() if word not in STOPWORDS)\n",
    "    \n",
    "    # To lower case\n",
    "    text = text.lower()\n",
    "    \n",
    "    return text\n",
    "\n",
    "df_oneplus['Title'] = df_oneplus['Title'].apply(text_cleaning)\n",
    "df_mavic['Title'] = df_mavic['Title'].apply(text_cleaning)\n",
    "df_roomba['Title'] = df_roomba['Title'].apply(text_cleaning)"
   ]
  },
  {
   "cell_type": "markdown",
   "metadata": {},
   "source": [
    "Note: another thing that could be done to improve our models is try not to remove the words (or numbers, symbols, etc) contained in the product name.  \n",
    "For example, if the product name is 'The Roomba', 'The' is an important part of the name and thus should not be deleted (in this case it is, since 'The' is contained in the english stopwords)."
   ]
  },
  {
   "cell_type": "markdown",
   "metadata": {},
   "source": [
    "### Feature extraction: convert words into numerical features\n",
    "In order to run a machine learning model we need to convert titles and hence words into numerical features vectors.\n",
    "Here, a model called _Bag of Words_ is used, where a vector represents the frequency of a word in a predefined dictionary of words.\n",
    "We will convert text to a matrix of token counts (using *CountVectorizer*), then transform a count matrix to a normalized tf-idf representation (using *TfidfTransformer*).\n",
    "TF-IDF score represents the relative importance of a term in the document and the entire corpus. tf-idf score is composed by two terms: the first computes the normalized Term Frequency (tf), the second term is the Inverse Document Frequency (idf), computed as the logarithm of the number of the documents in the corpus divided by the number of documents where the specific term appears.\n",
    "\n",
    "We'll use Scilkit-Learn *Pipelines* to make the process cleaner and reproducible for all the models and products."
   ]
  },
  {
   "cell_type": "code",
   "execution_count": 9,
   "metadata": {},
   "outputs": [],
   "source": [
    "from sklearn.pipeline import Pipeline\n",
    "from sklearn.feature_extraction.text import CountVectorizer, TfidfTransformer\n",
    "\n",
    "# Create the pre-processing pipeline\n",
    "# note: we define here a 'placeholder' clf that will be replaced later\n",
    "pipeline = Pipeline(steps = [('vect', CountVectorizer()),\n",
    "                             ('tfidf', TfidfTransformer()),\n",
    "                             ('clf', None),\n",
    "                            ])"
   ]
  },
  {
   "cell_type": "markdown",
   "metadata": {},
   "source": [
    "Note: A next step could be specify *max_features* parameter for *CountVectorizer*, limiting the number of terms. "
   ]
  },
  {
   "cell_type": "markdown",
   "metadata": {},
   "source": [
    "## Performance metrics\n",
    "The more common metrics are the following:\n",
    "* *Accuracy* is the most intuitive performance metric: it’s the number of correct predictions over all predictions made. While it’s easy to interpret the accuracy, it’s doesn’t give enough information about the instances the classifier missed.\n",
    "* *Precision* is the fraction of relevant instances among the retrieved instances. Usually this metric is used when we care about reducing the false positives.\n",
    "* *Recall* (also called *Sensitivity* or *True positive rate*) is the fraction of relevant instances that have been retrieved over the total amount of relevant instances. Recall is usually used when we care about reducing the false negatives.\n",
    "* *Precision-Recall Trade-off*: one can easily have a 100% recall by classifying every sample as positive. But in doing so, you’ll have a lot of False positives,thus having a very low precision. It's pobbile then to get a better sense of this trade-off by looking at the precision recall curve.\n",
    "* *f1-score* it’s the harmonic mean of Precision and Recall. It gives more weights to lower values and favors values that are equal. A higher f1_score will appear only if the precision and recall are high too.\n",
    "\n",
    "Note that all the metrics except accuracy are computed towards one label and we want to be sure that the positive (0) label are our true positive.\n",
    "To evaluate the model performance we'll use Stratified KFold cross-validation using 5 folds, which means roughly 20% of the data is used for testing. We use the stratified version to preserve the percentage of samples for each class."
   ]
  },
  {
   "cell_type": "code",
   "execution_count": 10,
   "metadata": {},
   "outputs": [],
   "source": [
    "from sklearn.model_selection import StratifiedKFold, cross_validate\n",
    "from sklearn.metrics import accuracy_score, precision_score, recall_score, f1_score\n",
    "from sklearn.metrics.scorer import make_scorer\n",
    "\n",
    "# Define custom scoring function to specify which is the  true positive (0, ASSET)\n",
    "scoring_metrics = {\n",
    "    'accuracy': make_scorer(accuracy_score),\n",
    "    'precision': make_scorer(precision_score, average='binary', pos_label=0),\n",
    "    'recall': make_scorer(recall_score, average='binary', pos_label=0),\n",
    "    'f1_score': make_scorer(f1_score, average='binary', pos_label=0),\n",
    "}\n",
    "\n",
    "# Define the validation function using (Stratified)KFold\n",
    "def model_validation(pipeline: Pipeline, df: pd.DataFrame, n_folds: int = 5) -> dict:\n",
    "    X, y = df['Title'], df['Label']\n",
    "    \n",
    "    kf = StratifiedKFold(n_folds, shuffle=True, random_state=42).get_n_splits(X)\n",
    "        \n",
    "    score = cross_validate(pipeline, X, y, cv=kf, scoring=scoring_metrics)\n",
    "        \n",
    "    return score"
   ]
  },
  {
   "cell_type": "markdown",
   "metadata": {},
   "source": [
    "#### Train-test splitting\n",
    "Before starting with the next section, let's split our datasets for training and testing.\n",
    "The first set will again be splitted and use for validation using the (Stratified)K-Fold CV.\n",
    "Instead, the test set will be used for the predictions and the computational cost evaluation at the end."
   ]
  },
  {
   "cell_type": "code",
   "execution_count": 11,
   "metadata": {},
   "outputs": [],
   "source": [
    "# For MAVIC PRO\n",
    "temp_copy = df_mavic.copy()\n",
    "df_mavic_train_val = temp_copy.sample(frac=0.80, random_state=42)\n",
    "df_mavic_test = temp_copy.drop(df_mavic_train_val.index)\n",
    "\n",
    "# For ONEPLUS\n",
    "temp_copy = df_oneplus.copy()\n",
    "df_oneplus_train_val = temp_copy.sample(frac=0.80, random_state=42)\n",
    "df_oneplus_test = temp_copy.drop(df_oneplus_train_val.index)\n",
    "\n",
    "# For ROOMBA\n",
    "temp_copy = df_roomba.copy()\n",
    "df_roomba_train_val = temp_copy.sample(frac=0.80, random_state=42)\n",
    "df_roomba_test = temp_copy.drop(df_roomba_train_val.index)"
   ]
  },
  {
   "cell_type": "markdown",
   "metadata": {},
   "source": [
    "## Model selection\n",
    "The models that we're going to test are:\n",
    "* *Multinomial Naive Bayes*,\n",
    "* *Linear Support Vector Machine*,\n",
    "* *Random Forest*.\n",
    "\n",
    "Each model has to be execute on all the three different products dataset.\n",
    "For this purpose, we've created a function that:\n",
    "1. takes the model pipeline has input,\n",
    "2. replace the current model being tested inside the pipeline,\n",
    "3. for each product, runs the model using the validation method described above,\n",
    "4. create a report for the defined metrics using a table."
   ]
  },
  {
   "cell_type": "markdown",
   "metadata": {},
   "source": [
    "#### Multinomial Naive Bayes\n",
    "The Naive Bayes classifier is a simple probabilistic classifier which is based on Bayes theorem with strong and naïve independence assumptions. It is one of the most basic text classification techniques and despite the naïve design and oversimplified assumptions it usually performs well in many complex real-world problems.    \n",
    "Though it is often outperformed by more advanced techniques, it's less computationally intensive (in both CPU and memory) and it requires a small amount of training data.  \n",
    "The Multinomial variation takes into account the number of occurrences of a term in training documents from class c, including multiple occurrences."
   ]
  },
  {
   "cell_type": "code",
   "execution_count": 45,
   "metadata": {},
   "outputs": [
    {
     "name": "stdout",
     "output_type": "stream",
     "text": [
      "                  Accuracy  Precision  Recall  F1-score\n",
      "MAVIC PRO            0.978      0.947   0.973     0.960\n",
      "ONEPLUS              0.978      0.941   0.999     0.969\n",
      "ROOMBA 900 BRUSH     0.928      0.884   0.981     0.930\n"
     ]
    }
   ],
   "source": [
    "from sklearn.naive_bayes import MultinomialNB \n",
    "\n",
    "def model_selection(model: Pipeline) -> pd.DataFrame:\n",
    "    # Remove last classifer from the pipeline\n",
    "    pipeline.steps.pop(2)\n",
    "    \n",
    "    # And replace it with the current classifier\n",
    "    pipeline.steps.append(['clf', model])\n",
    "    \n",
    "    # temporary list for all the products\n",
    "    temporary_store = list()\n",
    "    \n",
    "    # For each product/dataset\n",
    "    for df in [df_mavic_train_val, df_oneplus_train_val, df_roomba_train_val]:\n",
    "        # Run (Stratified)KFold\n",
    "        scores = model_validation(pipeline, df)\n",
    "        \n",
    "        # Store product-data\n",
    "        product_result = pd.Series({\n",
    "            'Accuracy': scores['test_accuracy'].mean(),\n",
    "            'Precision': scores['test_precision'].mean(),\n",
    "            'Recall': scores['test_recall'].mean(),\n",
    "            'F1-score': scores['test_f1_score'].mean(),\n",
    "        })\n",
    "        \n",
    "        temporary_store.append(product_result)\n",
    "                    \n",
    "    # Create the final table\n",
    "    return pd.DataFrame(temporary_store, index=list(PRODUCTS.keys()))\n",
    "\n",
    "\n",
    "# Run model selection for Multinomial Naive Bayes\n",
    "model_res = model_selection(MultinomialNB(alpha=0.1))\n",
    "print(model_res)"
   ]
  },
  {
   "cell_type": "markdown",
   "metadata": {},
   "source": [
    "From the above results we can say that:\n",
    "* the overall accuracy is pretty good (see [Uncommonly-high-accuracy](Coding_Test_-_Listing_title_classifier.ipynb#Uncommonly-high-accuracy) paragraph).\n",
    "* The accuracy is lower for the Roomba dataset, which is understandable since the size is almost ten times less.\n",
    "* More or less with all three cases we notice a lower precision than recall. Remember that recall measure what should have been predicted as positive but we flagged as negative.  \n",
    "\n",
    "Therefore, this model enhance recall over precision."
   ]
  },
  {
   "cell_type": "markdown",
   "metadata": {},
   "source": [
    "#### Linear Support Vector Machine\n",
    "Support Vector Machines determines the best decision boundary (best hyperplane) between vectors that belong to a given group and vectors that do not belong to it (divides the space into two subspaces).  \n",
    "SVM is very effective in text-mining tasks, particularly due to its effectiveness in dealing with high-dimensional data (SVM does not use all the data points or vectors to choose the boundary).  \n",
    "However, they usually are memory-intensive during training time due to the fact that a NxN kernel matrix has to be stored. If not, you'll need to recompute the kernel values repeatedly, making the training much slower.\n",
    "At prediction time, SVM takes a linear combination of all support vectors so, if there are a lot of them it'll required a lot of memory.  \n",
    "\n",
    "We'll uses Scikit-Learn _SGDClassifier_ (with 'hinge' loss) because it implements stochastic gradient descent instead of the exact gradient descent and may generalize better (downside is it may not converge to the same solution as an exact method)."
   ]
  },
  {
   "cell_type": "code",
   "execution_count": 44,
   "metadata": {},
   "outputs": [
    {
     "name": "stdout",
     "output_type": "stream",
     "text": [
      "                  Accuracy  Precision  Recall  F1-score\n",
      "MAVIC PRO            0.995      0.993   0.989     0.991\n",
      "ONEPLUS              0.999      0.999   0.999     0.999\n",
      "ROOMBA 900 BRUSH     0.975      0.981   0.966     0.973\n"
     ]
    }
   ],
   "source": [
    "from sklearn.linear_model import SGDClassifier\n",
    "\n",
    "# Run model selection for Linear Support Vector Machin\n",
    "model_res = model_selection(SGDClassifier(alpha=0.0001, max_iter=200))\n",
    "print(model_res)"
   ]
  },
  {
   "cell_type": "markdown",
   "metadata": {},
   "source": [
    "With the SVM the accuracy is higher than with the previous model, even if it is by a little amount.\n",
    "Besides, this differ from the previous model since the precision is usually higher than the recall."
   ]
  },
  {
   "cell_type": "markdown",
   "metadata": {},
   "source": [
    "#### Conclusions: precision - recall trade-off\n",
    "The second model overcome the first both in precision and recall, so the choise here is pretty obvious (without having tight performance constraints). But let's focus for a bit on the precision - recall trade-off here.\n",
    "\n",
    "* Priority on precision: of all the titles we predict we want as less False Positive as possible, meaning that we don't want non-asset titles labeld as assets. Do we care if we have some products that we don't care among our protected products?\n",
    "* Priority on recall: we rather have less False Negative, meaning less actual assets predicted as non-asset. Do we care if some products that we'd to protect are missing (because labeled as non-assets)?\n",
    "\n",
    "In our scenario, it's probably better to have an high recall."
   ]
  },
  {
   "cell_type": "markdown",
   "metadata": {},
   "source": [
    "#### Uncommonly high accuracy\n",
    "At first look, we notice that the metrics are overall very high, several times nearly 100%. This is very uncommon and seldom occurs in standard classifcation tasks.\n",
    "What could be wrong? Well, this scanario may occur when:\n",
    "* the classification problem is rather easy,\n",
    "* test and training data are too much alike compared to practical scenarios (so the model will probably generalize bad),\n",
    "* re-classifying training data in the test steps (some train data is leaked into the train data),\n",
    "* the classifier is overfitting the training set.\n",
    "\n",
    "A train/validation/test set splitting or a K-fold cross validation should avoid the latter case. We apply a (Stratified) 5-fold c.v. with data shuffling. This should also prevent train data leaking into train data, since the splitting is completly handled by sklearn methods.  \n",
    "A helpful approach could be to try to visualize data (both training and testing) to get an indication on how complicated the problem is, if the testing data is too similar to the training data, etc."
   ]
  },
  {
   "cell_type": "markdown",
   "metadata": {},
   "source": [
    "#### Model selection: a graphical representation\n",
    "Usually for model performance (and comparision) a ROC curve is used. Instead, when dealing with unbalanced classes a Precion-Recall curve is preferred.\n",
    "In our case, a ROC curve is not feasible, since SGDClassifier with hinge loss cannot predict the probabilities required to construct a ROC curve. \n",
    "For the Precion-Recall curve, instead, since the nature of the plot and the very close values a rapresentation of this type is not very useful.\n",
    "We'll use instead a box-plot of the Recall (since it's important in our scenario) values for all the fold (see points in the plot), for the ROOMBA dataset, the one that holds more difference with the two models."
   ]
  },
  {
   "cell_type": "code",
   "execution_count": 48,
   "metadata": {},
   "outputs": [
    {
     "data": {
      "image/png": "[encoded data removed]",
      "text/plain": [
       "<Figure size 720x360 with 1 Axes>"
      ]
     },
     "metadata": {},
     "output_type": "display_data"
    }
   ],
   "source": [
    "def plot_scores(scores:list, title: str):\n",
    "    # Construct DataFrame for visualization\n",
    "    scores_df = pd.DataFrame(scores, columns=['Model', 'Fold id', 'Recall'],)\n",
    "    \n",
    "    # Set the size\n",
    "    fig, _ = plt.subplots(figsize=(10, 5))\n",
    "    \n",
    "    # Plot data\n",
    "    sns.boxplot(x='Model', y='Recall', data=scores_df).set_title(title)\n",
    "    sns.stripplot(x='Model', y='Recall', data=scores_df, size=8, jitter=True, edgecolor=\"gray\", linewidth=2)\n",
    "    \n",
    "scores_data = list()\n",
    "\n",
    "# Run the comparision for the two models\n",
    "for model in [MultinomialNB(alpha=0.1), SGDClassifier(alpha=0.0001, max_iter=200)]:\n",
    "    # Remove last classifer from the pipeline\n",
    "    pipeline.steps.pop(2)\n",
    "\n",
    "    # And replace it with the current classifier\n",
    "    pipeline.steps.append(['clf', model])\n",
    "    \n",
    "    # Run (Stratified)KFold\n",
    "    scores = model_validation(pipeline, df_roomba_train_val)\n",
    "    \n",
    "    # Store the f1-scores (one for each fold) for this model\n",
    "    for fold_idx, f1_score in enumerate(scores['test_recall']):\n",
    "        scores_data.append((model.__class__.__name__, fold_idx, f1_score))\n",
    "\n",
    "plot_scores(scores_data, list(PRODUCTS.keys())[2])"
   ]
  },
  {
   "cell_type": "markdown",
   "metadata": {},
   "source": [
    "In our runs, we've that the Multinomial Naive Bayes has less recall variance than the Linear SVM. Given that the accuracy is pretty high in both and the first model has less computational costs (cpu and memory) we choose the Multinomial Naive Bayes."
   ]
  },
  {
   "cell_type": "markdown",
   "metadata": {},
   "source": [
    "### Computational time\n",
    "After the model selection we've decided to use the Multinomial Naive Bayes as our final algorithm.\n",
    "Now, let's try to get an idea on how much time it requires to train and to predict new samples.\n",
    "We'll re-train the selected model using the entire train-val set and make predictions using samples from the (unseen) test set."
   ]
  },
  {
   "cell_type": "code",
   "execution_count": 51,
   "metadata": {},
   "outputs": [
    {
     "name": "stdout",
     "output_type": "stream",
     "text": [
      "                  Training time (ms)  Prediction time (ms)\n",
      "MAVIC PRO                     75.193                 0.673\n",
      "ONEPLUS                       80.616                 0.670\n",
      "ROOMBA 900 BRUSH              12.381                 0.649\n"
     ]
    }
   ],
   "source": [
    "import time\n",
    "import random\n",
    "\n",
    "# Re-create the entire pipeline\n",
    "pipeline = Pipeline(steps = [('vect', CountVectorizer()),\n",
    "                             ('tfidf', TfidfTransformer()),\n",
    "                             ('clf', MultinomialNB(alpha=0.1)),\n",
    "                            ])\n",
    "\n",
    "def compute_training_prediction_time(df_train_val: pd.DataFrame, df_test: pd.DataFrame) -> dict:\n",
    "    # For semplicity, rename columns with X and y\n",
    "    X_train, y_train = df_train_val['Title'], df_train_val['Label']\n",
    "    X_test, y_test = df_test['Title'], df_test['Label']\n",
    "    \n",
    "    # Fit on the whole train(-val) set\n",
    "    t = time.time_ns()\n",
    "    pipeline.fit(X_train, y_train)\n",
    "    fit_time = time.time_ns() - t\n",
    "        \n",
    "    # For predictions, let's randomly take 5 samples from X_test\n",
    "    # and then take the average\n",
    "    predict_times = []\n",
    "    for x in range(1, 5):\n",
    "        # Random sampling\n",
    "        random_test_sample = X_test.sample(n=1, random_state=42)\n",
    "    \n",
    "        # Predict\n",
    "        t = time.time_ns()\n",
    "        y_pred = pipeline.predict(random_test_sample)\n",
    "        pred_time = time.time_ns() - t\n",
    "        \n",
    "        predict_times.append(pred_time)\n",
    "    \n",
    "    # The timing are returned in milliseconds\n",
    "    return {\n",
    "        'Training time (ms)': fit_time / 1000000,\n",
    "        'Prediction time (ms)': np.array(predict_times).mean() / 1000000,\n",
    "    }\n",
    "\n",
    "\n",
    "timing_mavic = compute_training_prediction_time(df_mavic_train_val, df_mavic_test)\n",
    "timing_oneplus = compute_training_prediction_time(df_oneplus_train_val, df_oneplus_test)\n",
    "timing_roomba = compute_training_prediction_time(df_roomba_train_val, df_roomba_test)\n",
    "\n",
    "# Create a simple table for visualization\n",
    "timing = pd.DataFrame([timing_mavic, timing_oneplus, timing_roomba], index=list(PRODUCTS.keys()))\n",
    "print(timing)"
   ]
  },
  {
   "cell_type": "markdown",
   "metadata": {},
   "source": [
    "From the table above, we can see that the avarage training time takes less than 100 milliseconds for the larger dataset, while less than a millisecond for predicting a sample (a title).  \n",
    "Note that the function compute the timing using time in nanoseconds since the epoch (click [here](https://docs.python.org/3/library/time.html#epoch) for more info on epoch) and thus do not consider only the (real) cpu execution time. This may cause little variations for each execution."
   ]
  },
  {
   "cell_type": "markdown",
   "metadata": {},
   "source": [
    "## Appendix A: hyper-parameter optimization\n",
    "In contrast to model parameters which are learned during training, model hyper-parameters are set by the developer (or data scientist) ahead of training and control implementation aspects of the model.\n",
    "The process of hyperparameter tuning (also called hyper-parameter optimization) means finding the combination of hyperparameter values for a machine learning model that performs the best - as measured on a validation dataset - for a problem.  \n",
    "These settings need to be tuned for each problem because the best model hyper-parameters for one particular dataset will not be the best across all datasets. However, on this particular assignement, it's required to have only one algorithm (or model) to run across all dataset products, so we'll make an exception.  \n",
    "Moreover, this part has been done chronologically before the model selection, but added as an appendix for simply the reading of the notebook.\n",
    "\n",
    "*Grid search* is best described as exhuastive guess and check: tries all combinations of values in the domain hoping that the best combination is in the grid. It has one limiting problem: it is extremely computationally expensive because we have to perform cross validation with every single combination of hyperparameters in the grid.  \n",
    "\n",
    "For the technical aspects, we'll use Sckit-Learn *GridSearchCV* on both MultinomialNB and SGDClassifier only for the ONEPLUS dataset.  "
   ]
  },
  {
   "cell_type": "code",
   "execution_count": 53,
   "metadata": {},
   "outputs": [
    {
     "name": "stdout",
     "output_type": "stream",
     "text": [
      "                  alpha\n",
      "MAVIC PRO        0.0010\n",
      "ONEPLUS          1.0000\n",
      "ROOMBA 900 BRUSH 0.1000\n",
      "\n",
      "                  alpha  max_iter\n",
      "MAVIC PRO        0.0001       500\n",
      "ONEPLUS          0.0001       200\n",
      "ROOMBA 900 BRUSH 0.0100       200\n"
     ]
    }
   ],
   "source": [
    "from sklearn.model_selection import GridSearchCV\n",
    "from typing import Union\n",
    "\n",
    "# Change floats visualization to 4 decimal points\n",
    "pd.set_option('display.float_format', lambda x: '{:.4f}'.format(x))\n",
    "\n",
    "# This is a quick util function to extract param's name when dealing with pipelines\n",
    "def get_param_name(p_name: str) -> str:\n",
    "    return p_name.replace('clf__', '')\n",
    "\n",
    "def hyperparameter_optimization(model: Union[MultinomialNB, SGDClassifier], parameters: dict):\n",
    "    # For each product/dataset\n",
    "    data = list()\n",
    "    for idx, df in enumerate([df_mavic_train_val, df_oneplus_train_val, df_roomba_train_val]):\n",
    "        # Extract feature matrix and target\n",
    "        X, y = df['Title'], df['Label']\n",
    "\n",
    "        # Re-create the pipeline here, it's easier\n",
    "        pipeline = Pipeline(steps = [('vect', CountVectorizer()),\n",
    "                                     ('tfidf', TfidfTransformer()),\n",
    "                                     ('clf', model()),\n",
    "                                    ])\n",
    "        \n",
    "        # Create the GridSearchCV object and fit\n",
    "        clf_grid = GridSearchCV(pipeline, param_grid=parameters, scoring='f1', cv=5, refit=False)\n",
    "        clf_grid.fit(X, y)\n",
    "\n",
    "        # temporary store data\n",
    "        data.append(clf_grid.best_params_)\n",
    "        \n",
    "    # Construct a table for better visualization\n",
    "    param_df = pd.DataFrame(data, index=list(PRODUCTS.keys()))\n",
    "    param_df.columns = [get_param_name(x) for x in param_df.columns]\n",
    "    \n",
    "    print(param_df)\n",
    "    \n",
    "# Multinomial Naive Bayes\n",
    "bayes_parameters = {\n",
    "    'clf__alpha' : [0.001, 0.1, 1]\n",
    "}\n",
    "hyperparameter_optimization(MultinomialNB, bayes_parameters)   \n",
    "print()\n",
    "\n",
    "# Linear SVM\n",
    "svm_parameters = {\n",
    "    'clf__alpha': [0.0001, 0.001, 0.01],\n",
    "    'clf__max_iter': [200, 500, 1000],\n",
    "}\n",
    "hyperparameter_optimization(SGDClassifier, svm_parameters)                                "
   ]
  },
  {
   "cell_type": "code",
   "execution_count": null,
   "metadata": {},
   "outputs": [],
   "source": []
  }
 ],
 "metadata": {
  "kernelspec": {
   "display_name": "Python 3",
   "language": "python",
   "name": "python3"
  },
  "language_info": {
   "codemirror_mode": {
    "name": "ipython",
    "version": 3
   },
   "file_extension": ".py",
   "mimetype": "text/x-python",
   "name": "python",
   "nbconvert_exporter": "python",
   "pygments_lexer": "ipython3",
   "version": "3.7.4"
  }
 },
 "nbformat": 4,
 "nbformat_minor": 2
}
